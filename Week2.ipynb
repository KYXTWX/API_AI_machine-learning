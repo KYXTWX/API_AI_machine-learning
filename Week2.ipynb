{
 "cells": [
  {
   "cell_type": "markdown",
   "metadata": {},
   "source": [
    "## Azure"
   ]
  },
  {
   "cell_type": "code",
   "execution_count": 17,
   "metadata": {},
   "outputs": [],
   "source": [
    "# 先导入为们需要的模块\n",
    "import requests\n",
    "import json"
   ]
  },
  {
   "cell_type": "code",
   "execution_count": 18,
   "metadata": {},
   "outputs": [],
   "source": [
    "KEY = '117cdc3de07144abbeb689fd7591ef2c'  # Replace with a valid Subscription Key here."
   ]
  },
  {
   "cell_type": "code",
   "execution_count": 19,
   "metadata": {},
   "outputs": [],
   "source": [
    "# Base URL,  Request URL中 符号?以前\n",
    "#。                          eastasia.api.cognitive.microsoft.com  ==》{endpoint}\n",
    "BASE_URL = 'https://westcentralus.api.cognitive.microsoft.com/face/v1.0/detect' # 人脸检测"
   ]
  },
  {
   "cell_type": "code",
   "execution_count": 20,
   "metadata": {},
   "outputs": [],
   "source": [
    "# 沿用API的示范代碼，{subscription key}用KEY代入\n",
    "HEADERS = {\n",
    "    # Request headers\n",
    "    'Content-Type': 'application/json',\n",
    "    'Ocp-Apim-Subscription-Key': '{}'.format(KEY), #''  \n",
    "}\n",
    "\n",
    "img_url = 'https://ss2.bdstatic.com/70cFvnSh_Q1YnxGkpoWK1HF6hhy/it/u=3810742722,2286783354&fm=26&gp=0.jpg'"
   ]
  },
  {
   "cell_type": "code",
   "execution_count": 21,
   "metadata": {},
   "outputs": [],
   "source": [
    "data = {\n",
    "    'url': '{}'.format(img_url),\n",
    "}\n",
    "payload = {\n",
    "    'returnFaceId': 'true',\n",
    "    'returnFaceLandmarks': 'flase',\n",
    "    'returnFaceAttributes': '{}'.format('age,gender,glasses,emotion'), #年龄，性别，眼镜，情感\n",
    "}"
   ]
  },
  {
   "cell_type": "code",
   "execution_count": 22,
   "metadata": {},
   "outputs": [
    {
     "data": {
      "text/plain": [
       "200"
      ]
     },
     "execution_count": 22,
     "metadata": {},
     "output_type": "execute_result"
    }
   ],
   "source": [
    "r = requests.post(BASE_URL,data=json.dumps(data),params = payload,headers=HEADERS)\n",
    "r.status_code"
   ]
  },
  {
   "cell_type": "code",
   "execution_count": 23,
   "metadata": {},
   "outputs": [
    {
     "data": {
      "text/plain": [
       "b'[{\"faceId\":\"4262e0cf-7cbf-4c0f-930d-bc72e0abfe0f\",\"faceRectangle\":{\"top\":176,\"left\":153,\"width\":208,\"height\":208},\"faceAttributes\":{\"gender\":\"male\",\"age\":17.0,\"glasses\":\"NoGlasses\",\"emotion\":{\"anger\":0.0,\"contempt\":0.0,\"disgust\":0.0,\"fear\":0.0,\"happiness\":0.0,\"neutral\":1.0,\"sadness\":0.0,\"surprise\":0.0}}}]'"
      ]
     },
     "execution_count": 23,
     "metadata": {},
     "output_type": "execute_result"
    }
   ],
   "source": [
    "r.content"
   ]
  },
  {
   "cell_type": "code",
   "execution_count": null,
   "metadata": {},
   "outputs": [],
   "source": []
  },
  {
   "cell_type": "code",
   "execution_count": null,
   "metadata": {},
   "outputs": [],
   "source": []
  },
  {
   "cell_type": "markdown",
   "metadata": {},
   "source": [
    "# Face++"
   ]
  },
  {
   "cell_type": "code",
   "execution_count": 13,
   "metadata": {},
   "outputs": [],
   "source": [
    "# 1、先导入为们需要的模块\n",
    "import requests\n",
    "\n",
    "\n",
    "api_secret = \"jsONWycuSQ0uSNCINFYiiiQPuoVcZxDh\"\n",
    "# 2、输入我们API_Key\n",
    "api_key = 'psTjYBkFtZ2nacNolF-EI0O2AHSHb1_l'  # Replace with a valid Subscription Key here.\n",
    "\n",
    "\n",
    "# 3、目标url\n",
    "# 这里也可以使用本地图片 例如：filepath =\"image/tupian.jpg\"\n",
    "BASE_URL = 'https://api-cn.faceplusplus.com/facepp/v3/detect' \n",
    "img_url = 'https://timgsa.baidu.com/timg?image&quality=80&size=b9999_10000&sec=1585852561139&di=40b4f71682e5670f8427a0462980ac09&imgtype=0&src=http%3A%2F%2Fn.sinaimg.cn%2Fsinacn%2Fw1080h661%2F20180128%2F514c-fyqzcxh5851445.jpg'\n",
    "\n",
    "# 4、沿用API文档的示范代码,准备我们的headers和图片(数据)\n",
    "\n",
    "headers = {\n",
    "    'Content-Type': 'application/json',\n",
    "}\n",
    "\n",
    "# 5、准备symbol ? 后面的数据\n",
    "\n",
    "payload = {\n",
    "    \"image_url\":img_url,\n",
    "    'api_key': api_key,\n",
    "    'api_secret': api_secret,\n",
    "    'return_attributes':'gender,age,smiling,emotion', \n",
    "}"
   ]
  },
  {
   "cell_type": "code",
   "execution_count": 9,
   "metadata": {},
   "outputs": [],
   "source": [
    "#  6、requests发送我们请求\n",
    "r = requests.post(BASE_URL, params=payload, headers=headers)"
   ]
  },
  {
   "cell_type": "code",
   "execution_count": 10,
   "metadata": {},
   "outputs": [
    {
     "data": {
      "text/plain": [
       "200"
      ]
     },
     "execution_count": 10,
     "metadata": {},
     "output_type": "execute_result"
    }
   ],
   "source": [
    "r.status_code"
   ]
  },
  {
   "cell_type": "code",
   "execution_count": 4,
   "metadata": {},
   "outputs": [
    {
     "data": {
      "text/plain": [
       "b'{\"request_id\":\"1585842596,69841811-5168-4d43-a6d3-476c4ca9ddf3\",\"time_used\":277,\"faces\":[{\"face_token\":\"5a918085a0ef9cc085965d8c12483666\",\"face_rectangle\":{\"top\":136,\"left\":495,\"width\":132,\"height\":132},\"attributes\":{\"gender\":{\"value\":\"Male\"},\"age\":{\"value\":24},\"smile\":{\"value\":99.756,\"threshold\":50.000},\"emotion\":{\"anger\":0.047,\"disgust\":0.047,\"fear\":0.887,\"happiness\":83.501,\"neutral\":14.721,\"sadness\":0.426,\"surprise\":0.371}}},{\"face_token\":\"1788d435b32bd30bacbd952af376c769\",\"face_rectangle\":{\"top\":159,\"left\":177,\"width\":131,\"height\":131},\"attributes\":{\"gender\":{\"value\":\"Male\"},\"age\":{\"value\":23},\"smile\":{\"value\":0.036,\"threshold\":50.000},\"emotion\":{\"anger\":0.001,\"disgust\":0.002,\"fear\":0.001,\"happiness\":0.045,\"neutral\":99.950,\"sadness\":0.000,\"surprise\":0.001}}},{\"face_token\":\"7c7097d9fda0189523888eb199782fb4\",\"face_rectangle\":{\"top\":108,\"left\":767,\"width\":124,\"height\":124},\"attributes\":{\"gender\":{\"value\":\"Male\"},\"age\":{\"value\":22},\"smile\":{\"value\":0.009,\"threshold\":50.000},\"emotion\":{\"anger\":0.001,\"disgust\":0.000,\"fear\":0.000,\"happiness\":0.000,\"neutral\":99.996,\"sadness\":0.003,\"surprise\":0.000}}}],\"image_id\":\"Kxk5DgcsPX316xiHA1qU7g==\",\"face_num\":3}\\n'"
      ]
     },
     "execution_count": 4,
     "metadata": {},
     "output_type": "execute_result"
    }
   ],
   "source": [
    "r.content"
   ]
  },
  {
   "cell_type": "code",
   "execution_count": 5,
   "metadata": {},
   "outputs": [
    {
     "data": {
      "text/plain": [
       "{'request_id': '1585842596,69841811-5168-4d43-a6d3-476c4ca9ddf3',\n",
       " 'time_used': 277,\n",
       " 'faces': [{'face_token': '5a918085a0ef9cc085965d8c12483666',\n",
       "   'face_rectangle': {'top': 136, 'left': 495, 'width': 132, 'height': 132},\n",
       "   'attributes': {'gender': {'value': 'Male'},\n",
       "    'age': {'value': 24},\n",
       "    'smile': {'value': 99.756, 'threshold': 50.0},\n",
       "    'emotion': {'anger': 0.047,\n",
       "     'disgust': 0.047,\n",
       "     'fear': 0.887,\n",
       "     'happiness': 83.501,\n",
       "     'neutral': 14.721,\n",
       "     'sadness': 0.426,\n",
       "     'surprise': 0.371}}},\n",
       "  {'face_token': '1788d435b32bd30bacbd952af376c769',\n",
       "   'face_rectangle': {'top': 159, 'left': 177, 'width': 131, 'height': 131},\n",
       "   'attributes': {'gender': {'value': 'Male'},\n",
       "    'age': {'value': 23},\n",
       "    'smile': {'value': 0.036, 'threshold': 50.0},\n",
       "    'emotion': {'anger': 0.001,\n",
       "     'disgust': 0.002,\n",
       "     'fear': 0.001,\n",
       "     'happiness': 0.045,\n",
       "     'neutral': 99.95,\n",
       "     'sadness': 0.0,\n",
       "     'surprise': 0.001}}},\n",
       "  {'face_token': '7c7097d9fda0189523888eb199782fb4',\n",
       "   'face_rectangle': {'top': 108, 'left': 767, 'width': 124, 'height': 124},\n",
       "   'attributes': {'gender': {'value': 'Male'},\n",
       "    'age': {'value': 22},\n",
       "    'smile': {'value': 0.009, 'threshold': 50.0},\n",
       "    'emotion': {'anger': 0.001,\n",
       "     'disgust': 0.0,\n",
       "     'fear': 0.0,\n",
       "     'happiness': 0.0,\n",
       "     'neutral': 99.996,\n",
       "     'sadness': 0.003,\n",
       "     'surprise': 0.0}}}],\n",
       " 'image_id': 'Kxk5DgcsPX316xiHA1qU7g==',\n",
       " 'face_num': 3}"
      ]
     },
     "execution_count": 5,
     "metadata": {},
     "output_type": "execute_result"
    }
   ],
   "source": [
    "# requests 巧妙的方法   r = response\n",
    "results = r.json() # \n",
    "results"
   ]
  },
  {
   "cell_type": "code",
   "execution_count": null,
   "metadata": {},
   "outputs": [],
   "source": []
  }
 ],
 "metadata": {
  "kernelspec": {
   "display_name": "Python 3",
   "language": "python",
   "name": "python3"
  },
  "language_info": {
   "codemirror_mode": {
    "name": "ipython",
    "version": 3
   },
   "file_extension": ".py",
   "mimetype": "text/x-python",
   "name": "python",
   "nbconvert_exporter": "python",
   "pygments_lexer": "ipython3",
   "version": "3.7.3"
  }
 },
 "nbformat": 4,
 "nbformat_minor": 2
}
